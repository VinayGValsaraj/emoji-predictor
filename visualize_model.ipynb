{
 "cells": [
  {
   "cell_type": "code",
   "execution_count": 1,
   "metadata": {},
   "outputs": [
    {
     "name": "stderr",
     "output_type": "stream",
     "text": [
      "Using TensorFlow backend.\n"
     ]
    }
   ],
   "source": [
    "from keras.models import load_model\n",
    "import numpy as np \n",
    "import pandas as pd\n",
    "from sklearn.feature_extraction.text import CountVectorizer\n",
    "from keras.preprocessing.text import Tokenizer\n",
    "from keras.preprocessing.sequence import pad_sequences\n",
    "from keras.models import Sequential\n",
    "from keras.layers import Dense, Embedding, LSTM, Dropout\n",
    "from sklearn.model_selection import train_test_split\n",
    "from keras.utils.np_utils import to_categorical\n",
    "import re\n",
    "import json\n",
    "import pandas as pd\n",
    "from utils import get_train_data_from_csv, get_dev_data_from_csv, get_test_data_from_csv, Indexer, get_indexer\n",
    "from nltk.tokenize import TweetTokenizer"
   ]
  },
  {
   "cell_type": "code",
   "execution_count": 2,
   "metadata": {},
   "outputs": [
    {
     "name": "stdout",
     "output_type": "stream",
     "text": [
      "WARNING:tensorflow:From /Users/nihaldhamani/miniconda3/envs/carnd-term1/lib/python3.5/site-packages/tensorflow/python/framework/op_def_library.py:263: colocate_with (from tensorflow.python.framework.ops) is deprecated and will be removed in a future version.\n",
      "Instructions for updating:\n",
      "Colocations handled automatically by placer.\n",
      "WARNING:tensorflow:From /Users/nihaldhamani/miniconda3/envs/carnd-term1/lib/python3.5/site-packages/keras/backend/tensorflow_backend.py:3445: calling dropout (from tensorflow.python.ops.nn_ops) with keep_prob is deprecated and will be removed in a future version.\n",
      "Instructions for updating:\n",
      "Please use `rate` instead of `keep_prob`. Rate should be set to `rate = 1 - keep_prob`.\n",
      "WARNING:tensorflow:From /Users/nihaldhamani/miniconda3/envs/carnd-term1/lib/python3.5/site-packages/tensorflow/python/ops/math_ops.py:3066: to_int32 (from tensorflow.python.ops.math_ops) is deprecated and will be removed in a future version.\n",
      "Instructions for updating:\n",
      "Use tf.cast instead.\n"
     ]
    }
   ],
   "source": [
    "model = load_model('models/model_15_ds_50.h5')"
   ]
  },
  {
   "cell_type": "code",
   "execution_count": 5,
   "metadata": {},
   "outputs": [
    {
     "name": "stdout",
     "output_type": "stream",
     "text": [
      "read train data from: data/train_15_ds.csv\n",
      "read dev data from: data/dev_15_ds.csv\n",
      "read test data from: data/test_15_ds.csv\n",
      "indexed training data\n",
      "indexed dev data\n"
     ]
    }
   ],
   "source": [
    "include_test = False\n",
    "\n",
    "tknr = TweetTokenizer()\n",
    "word_indexer = Indexer()\n",
    "word_indexer.add_and_get_index(\"UNK\")\n",
    "\n",
    "train_data = get_train_data_from_csv('data/train_15_ds.csv')\n",
    "dev_data = get_dev_data_from_csv('data/dev_15_ds.csv')\n",
    "test_data = get_test_data_from_csv('data/test_15_ds.csv')\n",
    "\n",
    "X_train = []\n",
    "Y_train = []\n",
    "X_dev = []\n",
    "Y_dev = []\n",
    "Y_dev_true = []\n",
    "X_test = []\n",
    "Y_test = []\n",
    "Y_test_true = []\n",
    "\n",
    "for d in train_data:\n",
    "    words = tknr.tokenize(d.text)\n",
    "    vector = []\n",
    "    for word in words:\n",
    "        idx= word_indexer.add_and_get_index(word)\n",
    "        vector.append(idx)\n",
    "    X_train.append(vector)\n",
    "    y = d.label\n",
    "    y_onehot = to_categorical(y, len(indexer), dtype='float32')\n",
    "    Y_train.append(y_onehot)\n",
    "\n",
    "print(\"indexed training data\")\n",
    "\n",
    "for d in dev_data:\n",
    "    words = tknr.tokenize(d.text)\n",
    "    vector = []\n",
    "    for word in words:\n",
    "        idx= word_indexer.add_and_get_index(word)\n",
    "        vector.append(idx)\n",
    "    X_dev.append(vector)\n",
    "    y = d.label\n",
    "    y_onehot = to_categorical(y, len(indexer), dtype='float32')\n",
    "    Y_dev.append(y_onehot)\n",
    "    Y_dev_true.append(d.label)\n",
    "\n",
    "print(\"indexed dev data\")\n",
    "\n",
    "if include_test:\n",
    "    for d in test_data:\n",
    "        words = tknr.tokenize(d.text)\n",
    "        vector = []\n",
    "        for word in words:\n",
    "            idx= word_indexer.add_and_get_index(word)\n",
    "            vector.append(idx)\n",
    "    X_test.append(vector)\n",
    "    y = d.label\n",
    "    y_onehot = to_categorical(y, len(indexer), dtype='float32')\n",
    "    Y_test.append(y_onehot)\n",
    "    Y_test_true.append(d.label)\n",
    "\n",
    "if include_test:\n",
    "    print(\"indexed test data\")\n",
    "\n",
    "ix = len(X_train)\n",
    "dix = len(X_dev)\n",
    "X = X_train + X_dev + X_test\n",
    "X = np.array(X)\n",
    "X = pad_sequences(X)\n",
    "\n",
    "X_train = np.array(X[:ix])\n",
    "X_dev = np.array(X[ix:ix+dix])\n",
    "X_test = np.array(X[ix+dix:])\n",
    "Y_train = np.array(Y_train)\n",
    "Y_dev = np.array(Y_dev)\n",
    "Y_test = np.array(Y_test)"
   ]
  },
  {
   "cell_type": "code",
   "execution_count": 4,
   "metadata": {},
   "outputs": [
    {
     "name": "stdout",
     "output_type": "stream",
     "text": [
      "read indexer from: indexer_15_dups.csv\n"
     ]
    },
    {
     "data": {
      "text/plain": [
       "['😂', '💯', '😍', '🔥', '💕', '💀', '😩', '😭', '😊', '❤', '🙏', '👀', '🙄', '😘', '🎃']"
      ]
     },
     "execution_count": 4,
     "metadata": {},
     "output_type": "execute_result"
    }
   ],
   "source": [
    "indexer = get_indexer('indexer_15_dups.csv')\n",
    "indexer"
   ]
  },
  {
   "cell_type": "code",
   "execution_count": 99,
   "metadata": {},
   "outputs": [],
   "source": [
    "to_predict = [\"i love you\", \n",
    "              \"i hate you\", \n",
    "              \"i cannot believe he offered me his coat to walk on over the puddle\",\n",
    "              \"bless up\",\n",
    "              \"i could not believe how beautiful she looked in the fashion show\",\n",
    "              \"james harden is a baaad man\",\n",
    "              \"my dad randomly started singing old town road this morning while making breakfast\",\n",
    "              \"why do all my favorite game of thrones characters get killed off\",\n",
    "              \"really craving some pizza rn\",\n",
    "              \"bruh i am dead\",\n",
    "              \"if i pay 40 for a haunted house i better die\", \n",
    "              \"grind does not stop\",\n",
    "              \"you know boomers had it good because their go to midlife crisis move was buying an expensive car\",\n",
    "              \"you all wanna talk about ghosting lets talk about jobs you apply for and never get denied or accepted\",\n",
    "              \"harden is red hot from 3\"]\n",
    "preds = []\n",
    "\n",
    "for ex in to_predict:\n",
    "    tk = tknr.tokenize(ex)\n",
    "    vec = []\n",
    "    for k in tk:\n",
    "        idx = word_indexer.index_of(k)\n",
    "        if idx == -1:\n",
    "            idx = 0\n",
    "        vec.append(idx)\n",
    "    preds.append(np.array(vec))\n",
    "    \n",
    "preds.append(X[0])"
   ]
  },
  {
   "cell_type": "code",
   "execution_count": 100,
   "metadata": {},
   "outputs": [],
   "source": [
    "preds = pad_sequences(preds)\n",
    "preds = np.array(preds[:-1])"
   ]
  },
  {
   "cell_type": "code",
   "execution_count": 101,
   "metadata": {},
   "outputs": [],
   "source": [
    "predictions = model.predict_classes(preds)"
   ]
  },
  {
   "cell_type": "code",
   "execution_count": 102,
   "metadata": {},
   "outputs": [
    {
     "name": "stdout",
     "output_type": "stream",
     "text": [
      "text: i love you\n",
      "pred: 😘\n",
      "\n",
      "text: i hate you\n",
      "pred: 😭\n",
      "\n",
      "text: i cannot believe he offered me his coat to walk on over the puddle\n",
      "pred: 🙄\n",
      "\n",
      "text: bless up\n",
      "pred: 🙏\n",
      "\n",
      "text: i could not believe how beautiful she looked in the fashion show\n",
      "pred: 😍\n",
      "\n",
      "text: james harden is a baaad man\n",
      "pred: 👀\n",
      "\n",
      "text: my dad randomly started singing old town road this morning while making breakfast\n",
      "pred: 😂\n",
      "\n",
      "text: why do all my favorite game of thrones characters get killed off\n",
      "pred: 😩\n",
      "\n",
      "text: really craving some pizza rn\n",
      "pred: 😭\n",
      "\n",
      "text: bruh i am dead\n",
      "pred: 💀\n",
      "\n",
      "text: if i pay 40 for a haunted house i better die\n",
      "pred: 🎃\n",
      "\n",
      "text: grind does not stop\n",
      "pred: 💯\n",
      "\n",
      "text: you know boomers had it good because their go to midlife crisis move was buying an expensive car\n",
      "pred: 🙄\n",
      "\n",
      "text: you all wanna talk about ghosting lets talk about jobs you apply for and never get denied or accepted\n",
      "pred: 🙄\n",
      "\n",
      "text: harden is red hot from 3\n",
      "pred: 🔥\n",
      "\n"
     ]
    }
   ],
   "source": [
    "for idx, pred in enumerate(predictions):\n",
    "    print(\"text:\", to_predict[idx])\n",
    "    print(\"pred:\", indexer.get_object(pred))\n",
    "    print()"
   ]
  },
  {
   "cell_type": "code",
   "execution_count": null,
   "metadata": {},
   "outputs": [],
   "source": []
  },
  {
   "cell_type": "code",
   "execution_count": null,
   "metadata": {},
   "outputs": [],
   "source": []
  }
 ],
 "metadata": {
  "kernelspec": {
   "display_name": "Python 3",
   "language": "python",
   "name": "python3"
  },
  "language_info": {
   "codemirror_mode": {
    "name": "ipython",
    "version": 3
   },
   "file_extension": ".py",
   "mimetype": "text/x-python",
   "name": "python",
   "nbconvert_exporter": "python",
   "pygments_lexer": "ipython3",
   "version": "3.5.2"
  },
  "widgets": {
   "state": {},
   "version": "1.1.2"
  }
 },
 "nbformat": 4,
 "nbformat_minor": 2
}
