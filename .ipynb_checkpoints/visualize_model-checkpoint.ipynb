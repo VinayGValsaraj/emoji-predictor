{
 "cells": [
  {
   "cell_type": "code",
   "execution_count": 18,
   "metadata": {},
   "outputs": [],
   "source": [
    "from keras.models import load_model\n",
    "import numpy as np \n",
    "import pandas as pd\n",
    "from sklearn.feature_extraction.text import CountVectorizer\n",
    "from keras.preprocessing.text import Tokenizer\n",
    "from keras.preprocessing.sequence import pad_sequences\n",
    "from keras.models import Sequential\n",
    "from keras.layers import Dense, Embedding, LSTM, Dropout\n",
    "from sklearn.model_selection import train_test_split\n",
    "from keras.utils.np_utils import to_categorical\n",
    "import re\n",
    "import json\n",
    "import pandas as pd\n",
    "from utils import get_train_data_from_csv, get_dev_data_from_csv, Indexer, get_indexer\n",
    "from nltk.tokenize import TweetTokenizer"
   ]
  },
  {
   "cell_type": "code",
   "execution_count": 2,
   "metadata": {},
   "outputs": [
    {
     "name": "stdout",
     "output_type": "stream",
     "text": [
      "WARNING:tensorflow:From /Users/nihaldhamani/miniconda3/envs/carnd-term1/lib/python3.5/site-packages/tensorflow/python/framework/op_def_library.py:263: colocate_with (from tensorflow.python.framework.ops) is deprecated and will be removed in a future version.\n",
      "Instructions for updating:\n",
      "Colocations handled automatically by placer.\n",
      "WARNING:tensorflow:From /Users/nihaldhamani/miniconda3/envs/carnd-term1/lib/python3.5/site-packages/keras/backend/tensorflow_backend.py:3445: calling dropout (from tensorflow.python.ops.nn_ops) with keep_prob is deprecated and will be removed in a future version.\n",
      "Instructions for updating:\n",
      "Please use `rate` instead of `keep_prob`. Rate should be set to `rate = 1 - keep_prob`.\n",
      "WARNING:tensorflow:From /Users/nihaldhamani/miniconda3/envs/carnd-term1/lib/python3.5/site-packages/tensorflow/python/ops/math_ops.py:3066: to_int32 (from tensorflow.python.ops.math_ops) is deprecated and will be removed in a future version.\n",
      "Instructions for updating:\n",
      "Use tf.cast instead.\n"
     ]
    }
   ],
   "source": [
    "model = load_model('model15dns_40.h5')"
   ]
  },
  {
   "cell_type": "code",
   "execution_count": 6,
   "metadata": {},
   "outputs": [
    {
     "name": "stdout",
     "output_type": "stream",
     "text": [
      "read train data from: data/train_15_dns.csv\n",
      "read dev data from: data/dev_15_dns.csv\n",
      "indexed training data\n",
      "indexed dev data\n"
     ]
    }
   ],
   "source": [
    "word_indexer = Indexer()\n",
    "word_indexer.add_and_get_index(\"UNK\")\n",
    "\n",
    "train_data = get_train_data_from_csv('data/train_15_dns.csv')[0:50000]\n",
    "dev_data = get_dev_data_from_csv('data/dev_15_dns.csv')[:10000]\n",
    "\n",
    "tknr = TweetTokenizer()\n",
    "\n",
    "X_train = []\n",
    "Y_train = []\n",
    "X_test = []\n",
    "Y_test = []\n",
    "\n",
    "for d in train_data:\n",
    "    words = tknr.tokenize(d.text)\n",
    "    vector = []\n",
    "    for word in words:\n",
    "        idx= word_indexer.add_and_get_index(word)\n",
    "        vector.append(idx)\n",
    "    X_train.append(vector)\n",
    "    y = d.label\n",
    "    y_onehot = to_categorical(y, 15, dtype='float32')\n",
    "    Y_train.append(y_onehot)\n",
    "\n",
    "print(\"indexed training data\")\n",
    "\n",
    "for d in dev_data:\n",
    "    words = tknr.tokenize(d.text)\n",
    "    vector = []\n",
    "    for word in words:\n",
    "        idx= word_indexer.add_and_get_index(word)\n",
    "        vector.append(idx)\n",
    "    X_test.append(vector)\n",
    "    y = d.label\n",
    "    y_onehot = to_categorical(y, 15, dtype='float32')\n",
    "    Y_test.append(y_onehot)\n",
    "\n",
    "print(\"indexed dev data\")\n",
    "\n",
    "\n",
    "ix = len(X_train)\n",
    "X = X_train + X_test\n",
    "X = np.array(X)\n",
    "X = pad_sequences(X)\n",
    "#X_train = pad_sequences(X_train)\n",
    "#X_test = pad_sequences(X_test)\n",
    "#X = X_train + X_test\n",
    "X_train = np.array(X[:ix])\n",
    "X_test = np.array(X[ix:])\n",
    "Y_train = np.array(Y_train)\n",
    "Y_test = np.array(Y_test)"
   ]
  },
  {
   "cell_type": "code",
   "execution_count": 28,
   "metadata": {},
   "outputs": [
    {
     "name": "stdout",
     "output_type": "stream",
     "text": [
      "read indexer from: indexer_15_dups.csv\n"
     ]
    }
   ],
   "source": [
    "indexer = get_indexer('indexer_15_dups.csv')\n",
    "to_predict = [\"i love you\", \"hahaha\", \"fuck you\", \"what are you up to?\"]\n",
    "preds = []\n",
    "\n",
    "for ex in to_predict:\n",
    "    tk = tknr.tokenize(ex)\n",
    "    vec = []\n",
    "    for k in tk:\n",
    "        idx = word_indexer.index_of(k)\n",
    "        if idx == -1:\n",
    "            idx = 0\n",
    "        vec.append(idx)\n",
    "    preds.append(np.array(vec))\n",
    "    \n",
    "preds.append(X[0])"
   ]
  },
  {
   "cell_type": "code",
   "execution_count": 29,
   "metadata": {},
   "outputs": [],
   "source": [
    "preds = pad_sequences(preds)\n",
    "preds = np.array(preds[:-1])"
   ]
  },
  {
   "cell_type": "code",
   "execution_count": 30,
   "metadata": {},
   "outputs": [],
   "source": [
    "predictions = model.predict_classes(preds)\n"
   ]
  },
  {
   "cell_type": "code",
   "execution_count": 21,
   "metadata": {},
   "outputs": [
    {
     "name": "stdout",
     "output_type": "stream",
     "text": [
      "❤\n"
     ]
    }
   ],
   "source": [
    "for idx, pred in enumerate(predictions):\n",
    "    print(\"text:\", to_predict[idx])\n",
    "    print(\"pred:\", indexer.get_object(pred))\n",
    "    print()"
   ]
  },
  {
   "cell_type": "code",
   "execution_count": null,
   "metadata": {},
   "outputs": [],
   "source": []
  }
 ],
 "metadata": {
  "kernelspec": {
   "display_name": "Python 3",
   "language": "python",
   "name": "python3"
  },
  "language_info": {
   "codemirror_mode": {
    "name": "ipython",
    "version": 3
   },
   "file_extension": ".py",
   "mimetype": "text/x-python",
   "name": "python",
   "nbconvert_exporter": "python",
   "pygments_lexer": "ipython3",
   "version": "3.5.2"
  },
  "widgets": {
   "state": {},
   "version": "1.1.2"
  }
 },
 "nbformat": 4,
 "nbformat_minor": 2
}
