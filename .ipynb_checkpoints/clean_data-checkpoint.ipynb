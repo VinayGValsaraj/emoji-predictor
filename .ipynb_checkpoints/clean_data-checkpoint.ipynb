{
 "cells": [
  {
   "cell_type": "code",
   "execution_count": 56,
   "metadata": {
    "collapsed": true
   },
   "outputs": [],
   "source": [
    "import csv\n",
    "import os\n",
    "from utils import Indexer\n",
    "import re\n",
    "import string\n",
    "from collections import Counter\n",
    "from tokenizer import tokenizer as vinay"
   ]
  },
  {
   "cell_type": "code",
   "execution_count": 69,
   "metadata": {},
   "outputs": [
    {
     "name": "stdout",
     "output_type": "stream",
     "text": [
      "<module 'tokenizer.tokenizer' from '/Users/vinayvalsaraj/anaconda3/lib/python3.6/site-packages/tokenizer/tokenizer.py'>\n",
      "<tokenizer.tokenizer.TweetTokenizer object at 0x1a58776e10>\n",
      "['can', 'not']\n"
     ]
    }
   ],
   "source": [
    "v = vinay.TweetTokenizer(regularize=True, preserve_len=False)\n",
    "print (v.tokenize(\"can't\"))"
   ]
  },
  {
   "cell_type": "code",
   "execution_count": 62,
   "metadata": {},
   "outputs": [
    {
     "name": "stdout",
     "output_type": "stream",
     "text": [
      "😂\n"
     ]
    }
   ],
   "source": [
    "indexer = Indexer()\n",
    "with open('indexer.csv', 'r') as f:\n",
    "    reader = csv.reader(f, delimiter='|')\n",
    "    for row in reader:\n",
    "        indexer.add_and_get_index(row[0])\n",
    "        \n",
    "print(indexer.get_object(0))"
   ]
  },
  {
   "cell_type": "code",
   "execution_count": 64,
   "metadata": {
    "collapsed": true
   },
   "outputs": [],
   "source": [
    "class DataPoint():\n",
    "    def __init__(self, text, label):\n",
    "        self.text = text\n",
    "        self.label = label"
   ]
  },
  {
   "cell_type": "code",
   "execution_count": 65,
   "metadata": {
    "collapsed": true
   },
   "outputs": [],
   "source": [
    "word_cnts = Counter()\n",
    "def count_words(text):\n",
    "    words = v.tokenize(text)\n",
    "    #print(words)\n",
    "    for word in words:\n",
    "        word_cnts[word] += 1"
   ]
  },
  {
   "cell_type": "code",
   "execution_count": 66,
   "metadata": {},
   "outputs": [],
   "source": [
    "dataset = []\n",
    "with open('dataset.csv', 'r') as f:\n",
    "    reader = csv.reader(f, delimiter='|')\n",
    "    for row in reader:\n",
    "        count_words(row[1])\n",
    "        dataset.append(DataPoint(row[1], int(row[0])))"
   ]
  },
  {
   "cell_type": "code",
   "execution_count": 67,
   "metadata": {},
   "outputs": [
    {
     "data": {
      "text/plain": [
       "3343697"
      ]
     },
     "execution_count": 67,
     "metadata": {},
     "output_type": "execute_result"
    }
   ],
   "source": [
    "len(dataset)"
   ]
  },
  {
   "cell_type": "code",
   "execution_count": 91,
   "metadata": {},
   "outputs": [],
   "source": [
    "for data in dataset:\n",
    "    temp = data.text.replace(\"’\", \"'\")\n",
    "    words = v.tokenize(temp)\n",
    "    for idx, word in enumerate(words):\n",
    "        if word_cnts[word] <= 10:\n",
    "            words[idx] = \"\"\n",
    "    data.text = \" \".join(word for word in words)"
   ]
  },
  {
   "cell_type": "code",
   "execution_count": 95,
   "metadata": {},
   "outputs": [
    {
     "name": "stdout",
     "output_type": "stream",
     "text": [
      "said michael was from texas\n",
      "0\n",
      "united vibe they so cuteee awww xfactor\n",
      "1\n",
      "happy 47th birthday to snoop dogg\n",
      "2\n",
      "true facts\n",
      "3\n",
      "what did y'all call this back then in school me \n",
      "0\n",
      "when you fall for someone everything about them becomes beautiful\n",
      "4\n",
      "personalize yours etsyetsymntt etsy ebay etsyretwt epiconetsy etsyaaa bride\n",
      "5\n",
      "personalize yours etsyetsymntt etsy ebay etsyretwt epiconetsy etsyaaa bride\n",
      "6\n",
      "why be mad if he keeping it\n",
      "3\n",
      "appreciate ya\n",
      "3\n",
      "appreciate ya\n",
      "7\n",
      "i do not see any boyfriends getting love for sweetest day it is rough out here\n",
      "0\n",
      "we are keeping up with the lead 20 more minutes to go\n",
      "5\n",
      "when you see a fat ass pothole but it is too late\n",
      "0\n",
      "blessings on blessings\n",
      "6\n",
      "love you bts\n",
      "9\n",
      "we were terrific this evening andrew you boys are top of the league i see\n",
      "10\n",
      "ellis was two weeks late and my feet were like fucking  i will never ever do it again can not wait to hear your news xx\n",
      "0\n",
      "stop addressing everything amp let them be mad fuck em\n",
      "11\n",
      "was it his bellybutton ring or was the irritation caused by someone else's bellybutton ring\n",
      "12\n",
      "shiiit if you know you know these hoes each hit different\n",
      "13\n",
      "shiiit if you know you know these hoes each hit different\n",
      "14\n",
      "i should be at ncat but no my ass wanted to be stupid and go to a  university\n",
      "15\n",
      "great\n",
      "16\n",
      " 22 you good my nigga\n",
      "15\n"
     ]
    }
   ],
   "source": [
    "for dp in dataset[:25]:\n",
    "    print (dp.text)\n",
    "    print (dp.label)"
   ]
  },
  {
   "cell_type": "code",
   "execution_count": 96,
   "metadata": {
    "collapsed": true
   },
   "outputs": [],
   "source": [
    "with open('new_cleaned_dataset.csv', 'w') as f:\n",
    "    for datapoint in dataset:\n",
    "        text = re.sub(r'[^\\w\\s]','', datapoint.text)\n",
    "        f.write(\"%s|%s\\n\"%(str(datapoint.label),datapoint.text))"
   ]
  }
 ],
 "metadata": {
  "kernelspec": {
   "display_name": "Python 3",
   "language": "python",
   "name": "python3"
  },
  "language_info": {
   "codemirror_mode": {
    "name": "ipython",
    "version": 3
   },
   "file_extension": ".py",
   "mimetype": "text/x-python",
   "name": "python",
   "nbconvert_exporter": "python",
   "pygments_lexer": "ipython3",
   "version": "3.6.3"
  }
 },
 "nbformat": 4,
 "nbformat_minor": 2
}
