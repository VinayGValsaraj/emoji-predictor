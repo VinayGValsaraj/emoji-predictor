{
 "cells": [
  {
   "cell_type": "code",
   "execution_count": 4,
   "metadata": {},
   "outputs": [],
   "source": [
    "import csv\n",
    "from utils import Indexer\n",
    "from random import shuffle\n",
    "import re"
   ]
  },
  {
   "cell_type": "code",
   "execution_count": 5,
   "metadata": {},
   "outputs": [],
   "source": [
    "class DataPoint():\n",
    "    def __init__(self, text, label):\n",
    "        self.text = text\n",
    "        self.label = label"
   ]
  },
  {
   "cell_type": "code",
   "execution_count": 6,
   "metadata": {},
   "outputs": [],
   "source": [
    "cleaned_dataset = []\n",
    "with open('cleaned_dataset_15_dups.csv', 'r') as f:\n",
    "    reader = csv.reader(f, delimiter='|')\n",
    "    for row in reader:\n",
    "        if row[1].isspace() or row[1] == \"\":\n",
    "            continue\n",
    "        cleaned_dataset.append(DataPoint(row[1], int(row[0])))"
   ]
  },
  {
   "cell_type": "code",
   "execution_count": 7,
   "metadata": {},
   "outputs": [
    {
     "data": {
      "text/plain": [
       "2366550"
      ]
     },
     "execution_count": 7,
     "metadata": {},
     "output_type": "execute_result"
    }
   ],
   "source": [
    "len(cleaned_dataset)"
   ]
  },
  {
   "cell_type": "code",
   "execution_count": 14,
   "metadata": {},
   "outputs": [],
   "source": [
    "indexer = Indexer()\n",
    "with open('indexer_15_dups.csv', 'r') as f:\n",
    "    reader = csv.reader(f, delimiter='|')\n",
    "    temp = [\"\"] * 15\n",
    "    for row in reader:\n",
    "        temp[int(row[1])] = row[0]\n",
    "        \n",
    "    for emoji in temp:\n",
    "        indexer.add_and_get_index(emoji)"
   ]
  },
  {
   "cell_type": "code",
   "execution_count": 15,
   "metadata": {},
   "outputs": [
    {
     "data": {
      "text/plain": [
       "['😂', '💯', '😍', '🔥', '💕', '💀', '😩', '😭', '😊', '❤', '🙏', '👀', '🙄', '😘', '🎃']"
      ]
     },
     "execution_count": 15,
     "metadata": {},
     "output_type": "execute_result"
    }
   ],
   "source": [
    "indexer"
   ]
  },
  {
   "cell_type": "code",
   "execution_count": 17,
   "metadata": {},
   "outputs": [
    {
     "name": "stdout",
     "output_type": "stream",
     "text": [
      "{'🙏': 101988, '🙄': 50890, '❤': 290777, '🎃': 66872, '💀': 69921, '😘': 66098, '😭': 301087, '🔥': 179419, '💯': 62728, '😍': 208251, '😩': 89086, '😂': 623485, '💕': 108161, '😊': 78093, '👀': 69694}\n"
     ]
    }
   ],
   "source": [
    "emoji_sample_count = {}\n",
    "\n",
    "for dp in cleaned_dataset:\n",
    "    emoji_sample_count[indexer.get_object(dp.label)] = emoji_sample_count.get(indexer.get_object(dp.label), 0) + 1\n",
    "    \n",
    "print (emoji_sample_count)\n"
   ]
  },
  {
   "cell_type": "code",
   "execution_count": 18,
   "metadata": {},
   "outputs": [
    {
     "name": "stdout",
     "output_type": "stream",
     "text": [
      "said michael was from texas\n",
      "true facts\n",
      "what did y'all call this back then in school me \n",
      "when you fall for someone everything about them becomes beautiful\n",
      "personalize yours etsyetsymntt etsy ebay etsyretwt epiconetsy etsyaaa bride\n",
      "bruhhh during the movie this little shit was staring at me over the chair\n",
      "you want more followers retweet like follow everyone turn on my notifications lets gain faster\n",
      "drew brees was mic'd up for the moment he made history via\n",
      "i thought you peed yourself\n",
      "aravindhasametha day 9 first shows vizag 55 fulls kurnool 77 fulls nellore 44 fulls vijayawada 22 f\n"
     ]
    }
   ],
   "source": [
    "for dp in cleaned_dataset[:5]:\n",
    "    print (dp.text)\n",
    "shuffle(cleaned_dataset)\n",
    "for dp in cleaned_dataset[:5]:\n",
    "    print (dp.text)"
   ]
  },
  {
   "cell_type": "code",
   "execution_count": 25,
   "metadata": {},
   "outputs": [
    {
     "name": "stdout",
     "output_type": "stream",
     "text": [
      "2366550\n"
     ]
    }
   ],
   "source": [
    "print (len(cleaned_dataset))"
   ]
  },
  {
   "cell_type": "code",
   "execution_count": 26,
   "metadata": {},
   "outputs": [
    {
     "name": "stdout",
     "output_type": "stream",
     "text": [
      "{0: 623485, 1: 62728, 2: 208251, 3: 179419, 4: 108161, 5: 69921, 6: 89086, 7: 301087, 8: 78093, 9: 290777, 10: 101988, 11: 69694, 12: 50890, 13: 66098, 14: 66872}\n",
      "2366550\n"
     ]
    }
   ],
   "source": [
    "sample_dataset = []\n",
    "emoji_sample_counter = {}\n",
    "\n",
    "for dp in cleaned_dataset:\n",
    "    if dp.label in emoji_sample_counter:\n",
    "        if emoji_sample_counter[dp.label] < 623485:\n",
    "            sample_dataset.append(dp)\n",
    "            emoji_sample_counter[dp.label] += 1\n",
    "    else:\n",
    "        emoji_sample_counter[dp.label] = 1\n",
    "        sample_dataset.append(dp)\n",
    "print (emoji_sample_counter) \n",
    "print (len(sample_dataset))\n"
   ]
  },
  {
   "cell_type": "code",
   "execution_count": 27,
   "metadata": {},
   "outputs": [
    {
     "name": "stdout",
     "output_type": "stream",
     "text": [
      "1893240\n",
      "236655\n",
      "236655\n"
     ]
    }
   ],
   "source": [
    "shuffle(sample_dataset)\n",
    "train_split = int(round(0.8*len(sample_dataset)))\n",
    "dev_split = train_split + int(round(0.5 * (len(sample_dataset) - train_split)))\n",
    "\n",
    "train_data = sample_dataset[:train_split]\n",
    "dev_data = sample_dataset[train_split:dev_split]\n",
    "test_data = sample_dataset[dev_split:]\n",
    "\n",
    "print(len(train_data))\n",
    "print(len(dev_data))\n",
    "print(len(test_data))"
   ]
  },
  {
   "cell_type": "code",
   "execution_count": 28,
   "metadata": {},
   "outputs": [],
   "source": [
    "with open('data/train_15_dns.csv', 'w') as f:\n",
    "    for datapoint in train_data:\n",
    "        text = re.sub(r'[^\\w\\s]','', datapoint.text)\n",
    "        f.write(\"%s|%s\\n\"%(str(datapoint.label),datapoint.text))"
   ]
  },
  {
   "cell_type": "code",
   "execution_count": 29,
   "metadata": {},
   "outputs": [],
   "source": [
    "with open('data/dev_15_dns.csv', 'w') as f:\n",
    "    for datapoint in dev_data:\n",
    "        text = re.sub(r'[^\\w\\s]','', datapoint.text)\n",
    "        f.write(\"%s|%s\\n\"%(str(datapoint.label),datapoint.text))"
   ]
  },
  {
   "cell_type": "code",
   "execution_count": 30,
   "metadata": {},
   "outputs": [],
   "source": [
    "with open('data/test_15_dns.csv', 'w') as f:\n",
    "    for datapoint in test_data:\n",
    "        text = re.sub(r'[^\\w\\s]','', datapoint.text)\n",
    "        f.write(\"%s|%s\\n\"%(str(datapoint.label),datapoint.text))"
   ]
  },
  {
   "cell_type": "code",
   "execution_count": null,
   "metadata": {
    "collapsed": true
   },
   "outputs": [],
   "source": []
  }
 ],
 "metadata": {
  "kernelspec": {
   "display_name": "Python 3",
   "language": "python",
   "name": "python3"
  },
  "language_info": {
   "codemirror_mode": {
    "name": "ipython",
    "version": 3
   },
   "file_extension": ".py",
   "mimetype": "text/x-python",
   "name": "python",
   "nbconvert_exporter": "python",
   "pygments_lexer": "ipython3",
   "version": "3.5.2"
  },
  "widgets": {
   "state": {},
   "version": "1.1.2"
  }
 },
 "nbformat": 4,
 "nbformat_minor": 2
}
