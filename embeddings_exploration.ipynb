{
 "cells": [
  {
   "cell_type": "code",
   "execution_count": 1,
   "metadata": {},
   "outputs": [],
   "source": [
    "from utils import read_word_embeddings, get_train_data_from_csv\n",
    "from collections import Counter\n",
    "from nltk.tokenize import TweetTokenizer"
   ]
  },
  {
   "cell_type": "code",
   "execution_count": 2,
   "metadata": {},
   "outputs": [],
   "source": [
    "twit_embs = read_word_embeddings('data/glove.twitter.27B.25d.txt')\n",
    "reg_embs = read_word_embeddings('data/glove.6B.50d-relativized.txt')"
   ]
  },
  {
   "cell_type": "code",
   "execution_count": 3,
   "metadata": {},
   "outputs": [],
   "source": [
    "data = get_train_data_from_csv()"
   ]
  },
  {
   "cell_type": "code",
   "execution_count": 4,
   "metadata": {},
   "outputs": [],
   "source": [
    "def get_words(dataset):\n",
    "\n",
    "    word_cnts = Counter()\n",
    "    tknr = TweetTokenizer()\n",
    "    for data in dataset:\n",
    "        tokenized = tknr.tokenize(data.text)\n",
    "        for word in tokenized:\n",
    "            word_cnts[word] += 1\n",
    "    \n",
    "    return word_cnts"
   ]
  },
  {
   "cell_type": "code",
   "execution_count": 5,
   "metadata": {},
   "outputs": [
    {
     "data": {
      "text/plain": [
       "True"
      ]
     },
     "execution_count": 5,
     "metadata": {},
     "output_type": "execute_result"
    }
   ],
   "source": [
    "set(reg_embs.get_embedding('hello')) == {0}"
   ]
  },
  {
   "cell_type": "code",
   "execution_count": 6,
   "metadata": {},
   "outputs": [],
   "source": [
    "words = get_words(data)"
   ]
  },
  {
   "cell_type": "code",
   "execution_count": 9,
   "metadata": {},
   "outputs": [
    {
     "data": {
      "text/plain": [
       "86801"
      ]
     },
     "execution_count": 9,
     "metadata": {},
     "output_type": "execute_result"
    }
   ],
   "source": [
    "len(words)"
   ]
  },
  {
   "cell_type": "code",
   "execution_count": 15,
   "metadata": {},
   "outputs": [],
   "source": [
    "def calc_percentage(embeddings):\n",
    "    count = 0\n",
    "    for word in words:\n",
    "        if set(embeddings.get_embedding(word)) != {0}:\n",
    "            count += 1\n",
    "            \n",
    "    print(\"total words:\", len(words))\n",
    "    print(\"words found in embeddings:\", count)\n",
    "    print(\"percentage of words:\", str(count / len(words)))\n",
    "    print()"
   ]
  },
  {
   "cell_type": "code",
   "execution_count": 16,
   "metadata": {},
   "outputs": [
    {
     "name": "stdout",
     "output_type": "stream",
     "text": [
      "total words: 86801\n",
      "words found in embeddings: 12331\n",
      "percentage of words: 0.1420605753389938\n",
      "\n"
     ]
    }
   ],
   "source": [
    "calc_percentage(reg_embs)"
   ]
  },
  {
   "cell_type": "code",
   "execution_count": 17,
   "metadata": {},
   "outputs": [
    {
     "name": "stdout",
     "output_type": "stream",
     "text": [
      "total words: 86801\n",
      "words found in embeddings: 55036\n",
      "percentage of words: 0.6340479948387692\n",
      "\n"
     ]
    }
   ],
   "source": [
    "calc_percentage(twit_embs)"
   ]
  },
  {
   "cell_type": "code",
   "execution_count": 18,
   "metadata": {},
   "outputs": [
    {
     "name": "stdout",
     "output_type": "stream",
     "text": [
      "total words: 86801\n",
      "words found in embeddings: 54366\n",
      "percentage of words: 0.6263291897558784\n",
      "\n"
     ]
    }
   ],
   "source": [
    "calc_percentage(s_embs)"
   ]
  },
  {
   "cell_type": "code",
   "execution_count": null,
   "metadata": {},
   "outputs": [],
   "source": []
  }
 ],
 "metadata": {
  "kernelspec": {
   "display_name": "Python 3",
   "language": "python",
   "name": "python3"
  },
  "language_info": {
   "codemirror_mode": {
    "name": "ipython",
    "version": 3
   },
   "file_extension": ".py",
   "mimetype": "text/x-python",
   "name": "python",
   "nbconvert_exporter": "python",
   "pygments_lexer": "ipython3",
   "version": "3.5.2"
  },
  "widgets": {
   "state": {},
   "version": "1.1.2"
  }
 },
 "nbformat": 4,
 "nbformat_minor": 2
}
